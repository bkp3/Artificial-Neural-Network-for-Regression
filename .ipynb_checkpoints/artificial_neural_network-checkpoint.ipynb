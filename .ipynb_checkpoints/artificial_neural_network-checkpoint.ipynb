{
 "cells": [
  {
   "cell_type": "code",
   "execution_count": 3,
   "metadata": {},
   "outputs": [
    {
     "name": "stderr",
     "output_type": "stream",
     "text": [
      "C:\\Users\\BKP\\Anaconda3\\lib\\site-packages\\tensorflow\\python\\framework\\dtypes.py:526: FutureWarning: Passing (type, 1) or '1type' as a synonym of type is deprecated; in a future version of numpy, it will be understood as (type, (1,)) / '(1,)type'.\n",
      "  _np_qint8 = np.dtype([(\"qint8\", np.int8, 1)])\n",
      "C:\\Users\\BKP\\Anaconda3\\lib\\site-packages\\tensorflow\\python\\framework\\dtypes.py:527: FutureWarning: Passing (type, 1) or '1type' as a synonym of type is deprecated; in a future version of numpy, it will be understood as (type, (1,)) / '(1,)type'.\n",
      "  _np_quint8 = np.dtype([(\"quint8\", np.uint8, 1)])\n",
      "C:\\Users\\BKP\\Anaconda3\\lib\\site-packages\\tensorflow\\python\\framework\\dtypes.py:528: FutureWarning: Passing (type, 1) or '1type' as a synonym of type is deprecated; in a future version of numpy, it will be understood as (type, (1,)) / '(1,)type'.\n",
      "  _np_qint16 = np.dtype([(\"qint16\", np.int16, 1)])\n",
      "C:\\Users\\BKP\\Anaconda3\\lib\\site-packages\\tensorflow\\python\\framework\\dtypes.py:529: FutureWarning: Passing (type, 1) or '1type' as a synonym of type is deprecated; in a future version of numpy, it will be understood as (type, (1,)) / '(1,)type'.\n",
      "  _np_quint16 = np.dtype([(\"quint16\", np.uint16, 1)])\n",
      "C:\\Users\\BKP\\Anaconda3\\lib\\site-packages\\tensorflow\\python\\framework\\dtypes.py:530: FutureWarning: Passing (type, 1) or '1type' as a synonym of type is deprecated; in a future version of numpy, it will be understood as (type, (1,)) / '(1,)type'.\n",
      "  _np_qint32 = np.dtype([(\"qint32\", np.int32, 1)])\n",
      "C:\\Users\\BKP\\Anaconda3\\lib\\site-packages\\tensorflow\\python\\framework\\dtypes.py:535: FutureWarning: Passing (type, 1) or '1type' as a synonym of type is deprecated; in a future version of numpy, it will be understood as (type, (1,)) / '(1,)type'.\n",
      "  np_resource = np.dtype([(\"resource\", np.ubyte, 1)])\n"
     ]
    }
   ],
   "source": [
    "# importing the libraries\n",
    "\n",
    "import numpy as np\n",
    "import pandas as pd\n",
    "import matplotlib.pyplot as plt\n",
    "import tensorflow as tf"
   ]
  },
  {
   "cell_type": "code",
   "execution_count": 5,
   "metadata": {},
   "outputs": [],
   "source": [
    "# importing the dataset\n",
    "\n",
    "dataset = pd.read_excel('Folds5x2_pp.xlsx')\n",
    "X = dataset.iloc[:,:-1].values\n",
    "y = dataset.iloc[:,-1].values"
   ]
  },
  {
   "cell_type": "code",
   "execution_count": 6,
   "metadata": {},
   "outputs": [
    {
     "data": {
      "text/plain": [
       "array([[  14.96,   41.76, 1024.07,   73.17],\n",
       "       [  25.18,   62.96, 1020.04,   59.08],\n",
       "       [   5.11,   39.4 , 1012.16,   92.14],\n",
       "       ...,\n",
       "       [  31.32,   74.33, 1012.92,   36.48],\n",
       "       [  24.48,   69.45, 1013.86,   62.39],\n",
       "       [  21.6 ,   62.52, 1017.23,   67.87]])"
      ]
     },
     "execution_count": 6,
     "metadata": {},
     "output_type": "execute_result"
    }
   ],
   "source": [
    "X"
   ]
  },
  {
   "cell_type": "code",
   "execution_count": 7,
   "metadata": {},
   "outputs": [
    {
     "data": {
      "text/plain": [
       "array([463.26, 444.37, 488.56, ..., 429.57, 435.74, 453.28])"
      ]
     },
     "execution_count": 7,
     "metadata": {},
     "output_type": "execute_result"
    }
   ],
   "source": [
    "y"
   ]
  },
  {
   "cell_type": "code",
   "execution_count": 8,
   "metadata": {},
   "outputs": [],
   "source": [
    "# splitting the dataset into the training set and test set\n",
    "\n",
    "from sklearn.model_selection import train_test_split\n",
    "X_train, X_test, y_train, y_test = train_test_split(X, y, test_size=0.2, random_state=0)"
   ]
  },
  {
   "cell_type": "code",
   "execution_count": 9,
   "metadata": {},
   "outputs": [
    {
     "data": {
      "text/plain": [
       "(7654, 4)"
      ]
     },
     "execution_count": 9,
     "metadata": {},
     "output_type": "execute_result"
    }
   ],
   "source": [
    "X_train.shape"
   ]
  },
  {
   "cell_type": "code",
   "execution_count": 10,
   "metadata": {},
   "outputs": [
    {
     "data": {
      "text/plain": [
       "(1914, 4)"
      ]
     },
     "execution_count": 10,
     "metadata": {},
     "output_type": "execute_result"
    }
   ],
   "source": [
    "X_test.shape"
   ]
  },
  {
   "cell_type": "code",
   "execution_count": 11,
   "metadata": {},
   "outputs": [
    {
     "data": {
      "text/plain": [
       "(1914,)"
      ]
     },
     "execution_count": 11,
     "metadata": {},
     "output_type": "execute_result"
    }
   ],
   "source": [
    "y_test.shape"
   ]
  },
  {
   "cell_type": "code",
   "execution_count": 12,
   "metadata": {},
   "outputs": [
    {
     "data": {
      "text/plain": [
       "(7654,)"
      ]
     },
     "execution_count": 12,
     "metadata": {},
     "output_type": "execute_result"
    }
   ],
   "source": [
    "y_train.shape"
   ]
  },
  {
   "cell_type": "code",
   "execution_count": 13,
   "metadata": {},
   "outputs": [],
   "source": [
    "# Building the ANN"
   ]
  },
  {
   "cell_type": "code",
   "execution_count": 15,
   "metadata": {},
   "outputs": [],
   "source": [
    "# initializing the ANN\n",
    "\n",
    "ann = tf.keras.models.Sequential()"
   ]
  },
  {
   "cell_type": "code",
   "execution_count": 16,
   "metadata": {},
   "outputs": [],
   "source": [
    "# adding the input layer and first hidden layer\n",
    "\n",
    "ann.add(tf.keras.layers.Dense(units=5, activation='relu'))"
   ]
  },
  {
   "cell_type": "code",
   "execution_count": 17,
   "metadata": {},
   "outputs": [],
   "source": [
    "# adding the second hidden layer\n",
    "\n",
    "ann.add(tf.keras.layers.Dense(units=6, activation='relu'))"
   ]
  },
  {
   "cell_type": "code",
   "execution_count": 18,
   "metadata": {},
   "outputs": [],
   "source": [
    "# adding the output layer\n",
    "\n",
    "ann.add(tf.keras.layers.Dense(units=1))"
   ]
  },
  {
   "cell_type": "code",
   "execution_count": 19,
   "metadata": {},
   "outputs": [],
   "source": [
    "# Training the ANN"
   ]
  },
  {
   "cell_type": "code",
   "execution_count": 20,
   "metadata": {},
   "outputs": [
    {
     "name": "stdout",
     "output_type": "stream",
     "text": [
      "WARNING:tensorflow:From C:\\Users\\BKP\\Anaconda3\\lib\\site-packages\\tensorflow\\python\\ops\\resource_variable_ops.py:435: colocate_with (from tensorflow.python.framework.ops) is deprecated and will be removed in a future version.\n",
      "Instructions for updating:\n",
      "Colocations handled automatically by placer.\n"
     ]
    }
   ],
   "source": [
    "# compiling the ANN\n",
    "\n",
    "ann.compile(optimizer = 'adam', loss = 'mean_squared_error')"
   ]
  },
  {
   "cell_type": "code",
   "execution_count": 21,
   "metadata": {},
   "outputs": [
    {
     "name": "stdout",
     "output_type": "stream",
     "text": [
      "WARNING:tensorflow:From C:\\Users\\BKP\\Anaconda3\\lib\\site-packages\\tensorflow\\python\\keras\\utils\\losses_utils.py:170: to_float (from tensorflow.python.ops.math_ops) is deprecated and will be removed in a future version.\n",
      "Instructions for updating:\n",
      "Use tf.cast instead.\n",
      "WARNING:tensorflow:From C:\\Users\\BKP\\Anaconda3\\lib\\site-packages\\tensorflow\\python\\ops\\math_ops.py:3066: to_int32 (from tensorflow.python.ops.math_ops) is deprecated and will be removed in a future version.\n",
      "Instructions for updating:\n",
      "Use tf.cast instead.\n",
      "Epoch 1/100\n",
      "7654/7654 [==============================] - 3s 368us/sample - loss: 31103.1514\n",
      "Epoch 2/100\n",
      "7654/7654 [==============================] - 0s 60us/sample - loss: 211.8708\n",
      "Epoch 3/100\n",
      "7654/7654 [==============================] - 0s 50us/sample - loss: 205.2123\n",
      "Epoch 4/100\n",
      "7654/7654 [==============================] - 0s 58us/sample - loss: 197.1475\n",
      "Epoch 5/100\n",
      "7654/7654 [==============================] - 0s 55us/sample - loss: 187.8746\n",
      "Epoch 6/100\n",
      "7654/7654 [==============================] - 0s 51us/sample - loss: 177.2984\n",
      "Epoch 7/100\n",
      "7654/7654 [==============================] - 0s 65us/sample - loss: 165.6643\n",
      "Epoch 8/100\n",
      "7654/7654 [==============================] - 0s 53us/sample - loss: 153.6103\n",
      "Epoch 9/100\n",
      "7654/7654 [==============================] - 0s 58us/sample - loss: 140.7246\n",
      "Epoch 10/100\n",
      "7654/7654 [==============================] - 1s 69us/sample - loss: 127.7782\n",
      "Epoch 11/100\n",
      "7654/7654 [==============================] - 0s 63us/sample - loss: 115.1349\n",
      "Epoch 12/100\n",
      "7654/7654 [==============================] - 0s 59us/sample - loss: 103.5375\n",
      "Epoch 13/100\n",
      "7654/7654 [==============================] - 1s 69us/sample - loss: 91.3734\n",
      "Epoch 14/100\n",
      "7654/7654 [==============================] - 1s 76us/sample - loss: 80.8267\n",
      "Epoch 15/100\n",
      "7654/7654 [==============================] - 0s 56us/sample - loss: 71.2512\n",
      "Epoch 16/100\n",
      "7654/7654 [==============================] - 0s 59us/sample - loss: 63.2130\n",
      "Epoch 17/100\n",
      "7654/7654 [==============================] - 0s 59us/sample - loss: 56.8662\n",
      "Epoch 18/100\n",
      "7654/7654 [==============================] - 0s 60us/sample - loss: 51.4661\n",
      "Epoch 19/100\n",
      "7654/7654 [==============================] - 0s 59us/sample - loss: 46.9056\n",
      "Epoch 20/100\n",
      "7654/7654 [==============================] - 0s 64us/sample - loss: 44.0684\n",
      "Epoch 21/100\n",
      "7654/7654 [==============================] - 0s 61us/sample - loss: 41.5568\n",
      "Epoch 22/100\n",
      "7654/7654 [==============================] - 0s 65us/sample - loss: 39.5056\n",
      "Epoch 23/100\n",
      "7654/7654 [==============================] - 1s 75us/sample - loss: 38.2210\n",
      "Epoch 24/100\n",
      "7654/7654 [==============================] - 0s 65us/sample - loss: 37.2945\n",
      "Epoch 25/100\n",
      "7654/7654 [==============================] - 1s 71us/sample - loss: 35.6290\n",
      "Epoch 26/100\n",
      "7654/7654 [==============================] - 0s 63us/sample - loss: 35.1054\n",
      "Epoch 27/100\n",
      "7654/7654 [==============================] - 1s 67us/sample - loss: 34.4122\n",
      "Epoch 28/100\n",
      "7654/7654 [==============================] - 0s 58us/sample - loss: 33.3479\n",
      "Epoch 29/100\n",
      "7654/7654 [==============================] - 0s 64us/sample - loss: 33.1679\n",
      "Epoch 30/100\n",
      "7654/7654 [==============================] - 1s 67us/sample - loss: 32.2777\n",
      "Epoch 31/100\n",
      "7654/7654 [==============================] - 0s 55us/sample - loss: 32.2934\n",
      "Epoch 32/100\n",
      "7654/7654 [==============================] - 0s 54us/sample - loss: 31.7292\n",
      "Epoch 33/100\n",
      "7654/7654 [==============================] - 0s 53us/sample - loss: 31.6907\n",
      "Epoch 34/100\n",
      "7654/7654 [==============================] - 0s 62us/sample - loss: 31.9108\n",
      "Epoch 35/100\n",
      "7654/7654 [==============================] - 1s 99us/sample - loss: 30.2184\n",
      "Epoch 36/100\n",
      "7654/7654 [==============================] - 1s 72us/sample - loss: 30.8283\n",
      "Epoch 37/100\n",
      "7654/7654 [==============================] - 0s 57us/sample - loss: 29.7173\n",
      "Epoch 38/100\n",
      "7654/7654 [==============================] - 0s 62us/sample - loss: 29.5141\n",
      "Epoch 39/100\n",
      "7654/7654 [==============================] - 0s 58us/sample - loss: 29.2337\n",
      "Epoch 40/100\n",
      "7654/7654 [==============================] - 1s 72us/sample - loss: 28.8989\n",
      "Epoch 41/100\n",
      "7654/7654 [==============================] - 1s 83us/sample - loss: 29.6962\n",
      "Epoch 42/100\n",
      "7654/7654 [==============================] - 1s 88us/sample - loss: 28.9554\n",
      "Epoch 43/100\n",
      "7654/7654 [==============================] - 1s 76us/sample - loss: 28.4911\n",
      "Epoch 44/100\n",
      "7654/7654 [==============================] - 1s 79us/sample - loss: 28.3462\n",
      "Epoch 45/100\n",
      "7654/7654 [==============================] - 1s 72us/sample - loss: 28.6229\n",
      "Epoch 46/100\n",
      "7654/7654 [==============================] - 1s 66us/sample - loss: 27.7649\n",
      "Epoch 47/100\n",
      "7654/7654 [==============================] - 0s 53us/sample - loss: 28.4181\n",
      "Epoch 48/100\n",
      "7654/7654 [==============================] - 1s 79us/sample - loss: 27.8138\n",
      "Epoch 49/100\n",
      "7654/7654 [==============================] - 1s 84us/sample - loss: 28.0223\n",
      "Epoch 50/100\n",
      "7654/7654 [==============================] - 1s 96us/sample - loss: 27.4817\n",
      "Epoch 51/100\n",
      "7654/7654 [==============================] - 0s 58us/sample - loss: 28.2220\n",
      "Epoch 52/100\n",
      "7654/7654 [==============================] - 1s 80us/sample - loss: 27.9966\n",
      "Epoch 53/100\n",
      "7654/7654 [==============================] - 1s 72us/sample - loss: 27.3681\n",
      "Epoch 54/100\n",
      "7654/7654 [==============================] - 1s 87us/sample - loss: 28.0852\n",
      "Epoch 55/100\n",
      "7654/7654 [==============================] - 1s 81us/sample - loss: 28.2351\n",
      "Epoch 56/100\n",
      "7654/7654 [==============================] - 0s 63us/sample - loss: 27.5700\n",
      "Epoch 57/100\n",
      "7654/7654 [==============================] - 1s 72us/sample - loss: 28.1837\n",
      "Epoch 58/100\n",
      "7654/7654 [==============================] - 0s 54us/sample - loss: 27.6890\n",
      "Epoch 59/100\n",
      "7654/7654 [==============================] - 0s 54us/sample - loss: 27.8431\n",
      "Epoch 60/100\n",
      "7654/7654 [==============================] - 0s 65us/sample - loss: 27.2040\n",
      "Epoch 61/100\n",
      "7654/7654 [==============================] - 0s 52us/sample - loss: 27.3499\n",
      "Epoch 62/100\n",
      "7654/7654 [==============================] - 1s 72us/sample - loss: 27.0047\n",
      "Epoch 63/100\n",
      "7654/7654 [==============================] - 1s 77us/sample - loss: 26.8022\n",
      "Epoch 64/100\n",
      "7654/7654 [==============================] - 0s 63us/sample - loss: 27.0809\n",
      "Epoch 65/100\n",
      "7654/7654 [==============================] - 0s 60us/sample - loss: 27.6554\n",
      "Epoch 66/100\n",
      "7654/7654 [==============================] - 1s 73us/sample - loss: 27.2477\n",
      "Epoch 67/100\n",
      "7654/7654 [==============================] - 0s 62us/sample - loss: 27.2377\n",
      "Epoch 68/100\n",
      "7654/7654 [==============================] - 0s 63us/sample - loss: 27.0164\n",
      "Epoch 69/100\n",
      "7654/7654 [==============================] - 0s 64us/sample - loss: 27.3392\n",
      "Epoch 70/100\n",
      "7654/7654 [==============================] - 1s 74us/sample - loss: 27.1035\n",
      "Epoch 71/100\n",
      "7654/7654 [==============================] - 0s 61us/sample - loss: 26.8030\n",
      "Epoch 72/100\n",
      "7654/7654 [==============================] - 0s 64us/sample - loss: 26.7937\n",
      "Epoch 73/100\n",
      "7654/7654 [==============================] - 0s 61us/sample - loss: 26.9574\n",
      "Epoch 74/100\n",
      "7654/7654 [==============================] - 0s 53us/sample - loss: 27.3041\n",
      "Epoch 75/100\n",
      "7654/7654 [==============================] - 0s 57us/sample - loss: 26.9446\n",
      "Epoch 76/100\n",
      "7654/7654 [==============================] - 1s 66us/sample - loss: 27.2111\n",
      "Epoch 77/100\n",
      "7654/7654 [==============================] - 0s 59us/sample - loss: 27.7752\n",
      "Epoch 78/100\n",
      "7654/7654 [==============================] - 0s 57us/sample - loss: 27.6251\n",
      "Epoch 79/100\n",
      "7654/7654 [==============================] - 0s 53us/sample - loss: 27.1473\n",
      "Epoch 80/100\n",
      "7654/7654 [==============================] - 0s 55us/sample - loss: 27.1317\n",
      "Epoch 81/100\n",
      "7654/7654 [==============================] - 0s 64us/sample - loss: 27.0330\n",
      "Epoch 82/100\n",
      "7654/7654 [==============================] - 0s 64us/sample - loss: 27.1837\n",
      "Epoch 83/100\n",
      "7654/7654 [==============================] - 0s 52us/sample - loss: 27.3126\n",
      "Epoch 84/100\n",
      "7654/7654 [==============================] - 0s 53us/sample - loss: 27.7511\n",
      "Epoch 85/100\n",
      "7654/7654 [==============================] - 1s 68us/sample - loss: 26.9386\n",
      "Epoch 86/100\n",
      "7654/7654 [==============================] - 1s 76us/sample - loss: 27.0774\n",
      "Epoch 87/100\n",
      "7654/7654 [==============================] - 1s 77us/sample - loss: 27.9969\n",
      "Epoch 88/100\n",
      "7654/7654 [==============================] - 1s 67us/sample - loss: 26.6853\n",
      "Epoch 89/100\n",
      "7654/7654 [==============================] - 1s 77us/sample - loss: 27.4927\n",
      "Epoch 90/100\n",
      "7654/7654 [==============================] - 1s 73us/sample - loss: 27.1980\n",
      "Epoch 91/100\n",
      "7654/7654 [==============================] - 1s 79us/sample - loss: 27.1623\n",
      "Epoch 92/100\n",
      "7654/7654 [==============================] - 1s 71us/sample - loss: 26.9970\n",
      "Epoch 93/100\n",
      "7654/7654 [==============================] - 1s 79us/sample - loss: 27.5290\n",
      "Epoch 94/100\n",
      "7654/7654 [==============================] - 0s 57us/sample - loss: 27.0151\n",
      "Epoch 95/100\n",
      "7654/7654 [==============================] - 0s 59us/sample - loss: 27.2518\n",
      "Epoch 96/100\n",
      "7654/7654 [==============================] - 0s 50us/sample - loss: 27.3295\n",
      "Epoch 97/100\n",
      "7654/7654 [==============================] - 0s 58us/sample - loss: 27.1910\n",
      "Epoch 98/100\n",
      "7654/7654 [==============================] - 0s 53us/sample - loss: 26.8619\n",
      "Epoch 99/100\n",
      "7654/7654 [==============================] - 0s 50us/sample - loss: 26.7285\n",
      "Epoch 100/100\n",
      "7654/7654 [==============================] - 0s 61us/sample - loss: 27.0314\n"
     ]
    },
    {
     "data": {
      "text/plain": [
       "<tensorflow.python.keras.callbacks.History at 0x17bc48ce6d8>"
      ]
     },
     "execution_count": 21,
     "metadata": {},
     "output_type": "execute_result"
    }
   ],
   "source": [
    "# Training the ANN model on the training set\n",
    "\n",
    "ann.fit(X_train, y_train, batch_size = 32, epochs=100)"
   ]
  },
  {
   "cell_type": "code",
   "execution_count": 22,
   "metadata": {},
   "outputs": [
    {
     "data": {
      "text/plain": [
       "array([[432.72037],\n",
       "       [463.8556 ],\n",
       "       [467.37817],\n",
       "       ...,\n",
       "       [474.5833 ],\n",
       "       [441.38303],\n",
       "       [460.58725]], dtype=float32)"
      ]
     },
     "execution_count": 22,
     "metadata": {},
     "output_type": "execute_result"
    }
   ],
   "source": [
    "# predicting the result on the test set\n",
    "\n",
    "ann.predict(X_test)"
   ]
  },
  {
   "cell_type": "code",
   "execution_count": 23,
   "metadata": {},
   "outputs": [
    {
     "name": "stdout",
     "output_type": "stream",
     "text": [
      "[[432.72 431.23]\n",
      " [463.86 460.01]\n",
      " [467.38 461.14]\n",
      " ...\n",
      " [474.58 473.26]\n",
      " [441.38 438.  ]\n",
      " [460.59 463.28]]\n"
     ]
    }
   ],
   "source": [
    "y_pred = ann.predict(X_test)\n",
    "np.set_printoptions(precision=2)\n",
    "print(np.concatenate((y_pred.reshape(len(y_pred),1), y_test.reshape(len(y_test),1)),1))"
   ]
  },
  {
   "cell_type": "code",
   "execution_count": null,
   "metadata": {},
   "outputs": [],
   "source": []
  }
 ],
 "metadata": {
  "kernelspec": {
   "display_name": "Python 3",
   "language": "python",
   "name": "python3"
  },
  "language_info": {
   "codemirror_mode": {
    "name": "ipython",
    "version": 3
   },
   "file_extension": ".py",
   "mimetype": "text/x-python",
   "name": "python",
   "nbconvert_exporter": "python",
   "pygments_lexer": "ipython3",
   "version": "3.7.1"
  }
 },
 "nbformat": 4,
 "nbformat_minor": 2
}
